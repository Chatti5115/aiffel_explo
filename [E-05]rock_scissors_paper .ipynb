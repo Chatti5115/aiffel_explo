{
 "cells": [
  {
   "cell_type": "code",
   "execution_count": 39,
   "id": "41ce69c2",
   "metadata": {},
   "outputs": [
    {
     "name": "stdout",
     "output_type": "stream",
     "text": [
      "2.6.0\n",
      "1.21.4\n"
     ]
    }
   ],
   "source": [
    "import tensorflow as tf\n",
    "import numpy as np\n",
    "\n",
    "print(tf.__version__)\n",
    "print(np.__version__)"
   ]
  },
  {
   "cell_type": "markdown",
   "id": "e2979f6a",
   "metadata": {},
   "source": [
    "# 데이터셋(roboflow) 다운"
   ]
  },
  {
   "cell_type": "code",
   "execution_count": 40,
   "id": "fce8a957",
   "metadata": {},
   "outputs": [
    {
     "name": "stdout",
     "output_type": "stream",
     "text": [
      "  % Total    % Received % Xferd  Average Speed   Time    Time     Time  Current\n",
      "                                 Dload  Upload   Total   Spent    Left  Speed\n",
      "100   894  100   894    0     0   1985      0 --:--:-- --:--:-- --:--:--  1986\n",
      "100 17.2M  100 17.2M    0     0  7952k      0  0:00:02  0:00:02 --:--:-- 11.1M\n",
      "Archive:  roboflow.zip\n",
      "replace train/paper/paper04-052_png.rf.004703ee1216ced61a16362f8f5fe00d.jpg? [y]es, [n]o, [A]ll, [N]one, [r]ename: ^C\n"
     ]
    }
   ],
   "source": [
    "!curl -L \"https://public.roboflow.com/ds/elbMzRCW26?key=1enihoOIPi\" > roboflow.zip; unzip roboflow.zip; rm roboflow.zip"
   ]
  },
  {
   "cell_type": "code",
   "execution_count": 42,
   "id": "4c0bce90",
   "metadata": {},
   "outputs": [
    {
     "name": "stdout",
     "output_type": "stream",
     "text": [
      "PIL 라이브러리 import 완료!\n"
     ]
    }
   ],
   "source": [
    "from PIL import Image\n",
    "import glob\n",
    "import os\n",
    "\n",
    "print(\"PIL 라이브러리 import 완료!\")"
   ]
  },
  {
   "cell_type": "markdown",
   "id": "a4c7d8fb",
   "metadata": {},
   "source": [
    "# 데이터들 resize "
   ]
  },
  {
   "cell_type": "code",
   "execution_count": 43,
   "id": "4b44ac0c",
   "metadata": {},
   "outputs": [
    {
     "name": "stdout",
     "output_type": "stream",
     "text": [
      "/home/doeun/Documents/aiffel/rock_scissor_paper_data/train/paper\n",
      "840  images to be resized.\n",
      "840  images resized.\n",
      "가위 이미지 resize 완료!\n"
     ]
    },
    {
     "name": "stderr",
     "output_type": "stream",
     "text": [
      "/tmp/ipykernel_20863/1085572464.py:10: DeprecationWarning: ANTIALIAS is deprecated and will be removed in Pillow 10 (2023-07-01). Use LANCZOS or Resampling.LANCZOS instead.\n",
      "  new_img=old_img.resize(target_size,Image.ANTIALIAS)\n"
     ]
    }
   ],
   "source": [
    "def resize_images(img_path):\n",
    "    images=glob.glob(img_path + \"/*.jpg\")  \n",
    "    \n",
    "    print(len(images), \" images to be resized.\")\n",
    "\n",
    "    # 파일마다 모두 28x28 사이즈로 바꾸어 저장합니다.\n",
    "    target_size=(28,28)\n",
    "    for img in images:\n",
    "        old_img=Image.open(img)\n",
    "        new_img=old_img.resize(target_size,Image.ANTIALIAS)\n",
    "        new_img.save(img, \"JPEG\")\n",
    "    \n",
    "    print(len(images), \" images resized.\")\n",
    "\n",
    "# 가위 이미지가 저장된 디렉토리 아래의 모든 jpg 파일을 읽어들여서\n",
    "image_dir_path = os.getenv(\"HOME\") + \"/Documents/aiffel/rock_scissor_paper_data/train/paper\"\n",
    "print(image_dir_path)\n",
    "resize_images(image_dir_path)\n",
    "\n",
    "print(\"가위 이미지 resize 완료!\")"
   ]
  },
  {
   "cell_type": "code",
   "execution_count": 44,
   "id": "e8691604",
   "metadata": {},
   "outputs": [
    {
     "name": "stdout",
     "output_type": "stream",
     "text": [
      "840  images to be resized.\n",
      "840  images resized.\n",
      "가위 이미지 resize 완료!\n"
     ]
    },
    {
     "name": "stderr",
     "output_type": "stream",
     "text": [
      "/tmp/ipykernel_20863/3141231988.py:10: DeprecationWarning: ANTIALIAS is deprecated and will be removed in Pillow 10 (2023-07-01). Use LANCZOS or Resampling.LANCZOS instead.\n",
      "  new_img=old_img.resize(target_size,Image.ANTIALIAS)\n"
     ]
    }
   ],
   "source": [
    "def resize_images(img_path):\n",
    "    images=glob.glob(img_path + \"/*.jpg\")  \n",
    "    \n",
    "    print(len(images), \" images to be resized.\")\n",
    "\n",
    "    # 파일마다 모두 28x28 사이즈로 바꾸어 저장합니다.\n",
    "    target_size=(28,28)\n",
    "    for img in images:\n",
    "        old_img=Image.open(img)\n",
    "        new_img=old_img.resize(target_size,Image.ANTIALIAS)\n",
    "        new_img.save(img, \"JPEG\")\n",
    "    \n",
    "    print(len(images), \" images resized.\")\n",
    "\n",
    "# 가위 이미지가 저장된 디렉토리 아래의 모든 jpg 파일을 읽어들여서\n",
    "image_dir_path = os.getenv(\"HOME\") + \"/Documents/aiffel/rock_scissor_paper_data/train/rock\"\n",
    "resize_images(image_dir_path)\n",
    "\n",
    "print(\"가위 이미지 resize 완료!\")"
   ]
  },
  {
   "cell_type": "code",
   "execution_count": 45,
   "id": "194d0564",
   "metadata": {},
   "outputs": [
    {
     "name": "stdout",
     "output_type": "stream",
     "text": [
      "840  images to be resized.\n",
      "840  images resized.\n",
      "가위 이미지 resize 완료!\n"
     ]
    },
    {
     "name": "stderr",
     "output_type": "stream",
     "text": [
      "/tmp/ipykernel_20863/2837943893.py:10: DeprecationWarning: ANTIALIAS is deprecated and will be removed in Pillow 10 (2023-07-01). Use LANCZOS or Resampling.LANCZOS instead.\n",
      "  new_img=old_img.resize(target_size,Image.ANTIALIAS)\n"
     ]
    }
   ],
   "source": [
    "def resize_images(img_path):\n",
    "    images=glob.glob(img_path + \"/*.jpg\")  \n",
    "    \n",
    "    print(len(images), \" images to be resized.\")\n",
    "\n",
    "    # 파일마다 모두 28x28 사이즈로 바꾸어 저장합니다.\n",
    "    target_size=(28,28)\n",
    "    for img in images:\n",
    "        old_img=Image.open(img)\n",
    "        new_img=old_img.resize(target_size,Image.ANTIALIAS)\n",
    "        new_img.save(img, \"JPEG\")\n",
    "    \n",
    "    print(len(images), \" images resized.\")\n",
    "\n",
    "# 가위 이미지가 저장된 디렉토리 아래의 모든 jpg 파일을 읽어들여서\n",
    "image_dir_path = os.getenv(\"HOME\") + \"/Documents/aiffel/rock_scissor_paper_data/train/scissors\"\n",
    "resize_images(image_dir_path)\n",
    "\n",
    "print(\"가위 이미지 resize 완료!\")"
   ]
  },
  {
   "cell_type": "code",
   "execution_count": 46,
   "id": "6c0bd956",
   "metadata": {},
   "outputs": [
    {
     "name": "stdout",
     "output_type": "stream",
     "text": [
      "11  images to be resized.\n",
      "11  images resized.\n",
      "가위 이미지 resize 완료!\n"
     ]
    },
    {
     "name": "stderr",
     "output_type": "stream",
     "text": [
      "/tmp/ipykernel_20863/3581495667.py:10: DeprecationWarning: ANTIALIAS is deprecated and will be removed in Pillow 10 (2023-07-01). Use LANCZOS or Resampling.LANCZOS instead.\n",
      "  new_img=old_img.resize(target_size,Image.ANTIALIAS)\n"
     ]
    }
   ],
   "source": [
    "def resize_images(img_path):\n",
    "    images=glob.glob(img_path + \"/*.jpg\")  \n",
    "    \n",
    "    print(len(images), \" images to be resized.\")\n",
    "\n",
    "    # 파일마다 모두 28x28 사이즈로 바꾸어 저장합니다.\n",
    "    target_size=(28,28)\n",
    "    for img in images:\n",
    "        old_img=Image.open(img)\n",
    "        new_img=old_img.resize(target_size,Image.ANTIALIAS)\n",
    "        new_img.save(img, \"JPEG\")\n",
    "    \n",
    "    print(len(images), \" images resized.\")\n",
    "\n",
    "# 가위 이미지가 저장된 디렉토리 아래의 모든 jpg 파일을 읽어들여서\n",
    "image_dir_path = os.getenv(\"HOME\") + \"/Documents/aiffel/rock_scissor_paper_data/test/paper\"\n",
    "resize_images(image_dir_path)\n",
    "\n",
    "print(\"가위 이미지 resize 완료!\")"
   ]
  },
  {
   "cell_type": "code",
   "execution_count": 47,
   "id": "47997e8b",
   "metadata": {},
   "outputs": [
    {
     "name": "stdout",
     "output_type": "stream",
     "text": [
      "11  images to be resized.\n",
      "11  images resized.\n",
      "가위 이미지 resize 완료!\n"
     ]
    },
    {
     "name": "stderr",
     "output_type": "stream",
     "text": [
      "/tmp/ipykernel_20863/683861745.py:10: DeprecationWarning: ANTIALIAS is deprecated and will be removed in Pillow 10 (2023-07-01). Use LANCZOS or Resampling.LANCZOS instead.\n",
      "  new_img=old_img.resize(target_size,Image.ANTIALIAS)\n"
     ]
    }
   ],
   "source": [
    "def resize_images(img_path):\n",
    "    images=glob.glob(img_path + \"/*.jpg\")  \n",
    "    \n",
    "    print(len(images), \" images to be resized.\")\n",
    "\n",
    "    # 파일마다 모두 28x28 사이즈로 바꾸어 저장합니다.\n",
    "    target_size=(28,28)\n",
    "    for img in images:\n",
    "        old_img=Image.open(img)\n",
    "        new_img=old_img.resize(target_size,Image.ANTIALIAS)\n",
    "        new_img.save(img, \"JPEG\")\n",
    "    \n",
    "    print(len(images), \" images resized.\")\n",
    "\n",
    "# 가위 이미지가 저장된 디렉토리 아래의 모든 jpg 파일을 읽어들여서\n",
    "image_dir_path = os.getenv(\"HOME\") + \"/Documents/aiffel/rock_scissor_paper_data/test/scissors\"\n",
    "resize_images(image_dir_path)\n",
    "\n",
    "print(\"가위 이미지 resize 완료!\")"
   ]
  },
  {
   "cell_type": "code",
   "execution_count": 48,
   "id": "9ebe916d",
   "metadata": {},
   "outputs": [
    {
     "name": "stdout",
     "output_type": "stream",
     "text": [
      "11  images to be resized.\n",
      "11  images resized.\n"
     ]
    },
    {
     "name": "stderr",
     "output_type": "stream",
     "text": [
      "/tmp/ipykernel_20863/680650180.py:10: DeprecationWarning: ANTIALIAS is deprecated and will be removed in Pillow 10 (2023-07-01). Use LANCZOS or Resampling.LANCZOS instead.\n",
      "  new_img=old_img.resize(target_size,Image.ANTIALIAS)\n"
     ]
    }
   ],
   "source": [
    "def resize_images(img_path):\n",
    "    images=glob.glob(img_path + \"/*.jpg\")  \n",
    "    \n",
    "    print(len(images), \" images to be resized.\")\n",
    "\n",
    "    # 파일마다 모두 28x28 사이즈로 바꾸어 저장합니다.\n",
    "    target_size=(28,28)\n",
    "    for img in images:\n",
    "        old_img=Image.open(img)\n",
    "        new_img=old_img.resize(target_size,Image.ANTIALIAS)\n",
    "        new_img.save(img, \"JPEG\")\n",
    "    \n",
    "    print(len(images), \" images resized.\")\n",
    "\n",
    "# 가위 이미지가 저장된 디렉토리 아래의 모든 jpg 파일을 읽어들여서\n",
    "image_dir_path = os.getenv(\"HOME\") + \"/Documents/aiffel/rock_scissor_paper_data/test/rock\"\n",
    "resize_images(image_dir_path)\n",
    "\n",
    "# print(\"가위 이미지 resize 완료!\")"
   ]
  },
  {
   "cell_type": "markdown",
   "id": "2dbeaff1",
   "metadata": {},
   "source": [
    "# train 이미지 load"
   ]
  },
  {
   "cell_type": "code",
   "execution_count": 49,
   "id": "d8d4cc17",
   "metadata": {},
   "outputs": [
    {
     "name": "stdout",
     "output_type": "stream",
     "text": [
      "학습데이터(x_train)의 이미지 개수는 2520 입니다.\n",
      "x_train shape: (2520, 28, 28, 3)\n",
      "y_train shape: (2520,)\n"
     ]
    }
   ],
   "source": [
    "import numpy as np\n",
    "\n",
    "def load_data(img_path, number_of_data=2520):  # 가위바위보 이미지 개수 총합에 주의하세요.\n",
    "    # 가위 : 0, 바위 : 1, 보 : 2\n",
    "    img_size=28\n",
    "    color=3\n",
    "    #이미지 데이터와 라벨(가위 : 0, 바위 : 1, 보 : 2) 데이터를 담을 행렬(matrix) 영역을 생성합니다.\n",
    "    imgs=np.zeros(number_of_data*img_size*img_size*color,dtype=np.int32).reshape(number_of_data,img_size,img_size,color)\n",
    "    labels=np.zeros(number_of_data,dtype=np.int32)\n",
    "\n",
    "    idx=0\n",
    "    for file in glob.iglob(img_path+'/scissors/*.jpg'):\n",
    "        img = np.array(Image.open(file),dtype=np.int32)\n",
    "        imgs[idx,:,:,:]=img    # 데이터 영역에 이미지 행렬을 복사\n",
    "        labels[idx]=0   # 가위 : 0\n",
    "        idx=idx+1\n",
    "\n",
    "    for file in glob.iglob(img_path+'/rock/*.jpg'):\n",
    "        img = np.array(Image.open(file),dtype=np.int32)\n",
    "        imgs[idx,:,:,:]=img    # 데이터 영역에 이미지 행렬을 복사\n",
    "        labels[idx]=1   # 바위 : 1\n",
    "        idx=idx+1  \n",
    "    \n",
    "    for file in glob.iglob(img_path+'/paper/*.jpg'):\n",
    "        img = np.array(Image.open(file),dtype=np.int32)\n",
    "        imgs[idx,:,:,:]=img    # 데이터 영역에 이미지 행렬을 복사\n",
    "        labels[idx]=2   # 보 : 2\n",
    "        idx=idx+1\n",
    "    \n",
    "    print(\"학습데이터(x_train)의 이미지 개수는\", idx,\"입니다.\")\n",
    "    return imgs, labels\n",
    "\n",
    "image_dir_path = os.getenv(\"HOME\") + \"/Documents/aiffel/rock_scissor_paper_data/train\"\n",
    "\n",
    "(x_train, y_train)=load_data(image_dir_path)\n",
    "\n",
    "\n",
    "\n",
    "x_train_norm = x_train/255.0   # 입력은 0~1 사이의 값으로 정규화\n",
    "\n",
    "\n",
    "print(\"x_train shape: {}\".format(x_train.shape))\n",
    "print(\"y_train shape: {}\".format(y_train.shape))"
   ]
  },
  {
   "cell_type": "markdown",
   "id": "dddb23bb",
   "metadata": {},
   "source": [
    "# train 이미지 확인"
   ]
  },
  {
   "cell_type": "code",
   "execution_count": 50,
   "id": "ead7cb89",
   "metadata": {},
   "outputs": [],
   "source": [
    "from PIL import Image\n",
    "import glob\n",
    "import os\n",
    "\n",
    "import numpy as np"
   ]
  },
  {
   "cell_type": "code",
   "execution_count": 51,
   "id": "ac234207",
   "metadata": {},
   "outputs": [
    {
     "name": "stdout",
     "output_type": "stream",
     "text": [
      "라벨:  0\n"
     ]
    },
    {
     "data": {
      "image/png": "[encoded data removed]",
      "text/plain": [
       "<Figure size 640x480 with 1 Axes>"
      ]
     },
     "metadata": {},
     "output_type": "display_data"
    }
   ],
   "source": [
    "plt.imshow(x_train[0])\n",
    "print('라벨: ', y_train[0])"
   ]
  },
  {
   "cell_type": "markdown",
   "id": "054e6864",
   "metadata": {},
   "source": [
    "# model 설계"
   ]
  },
  {
   "cell_type": "code",
   "execution_count": 73,
   "id": "5a805fcd",
   "metadata": {},
   "outputs": [
    {
     "name": "stdout",
     "output_type": "stream",
     "text": [
      "Model: \"sequential_5\"\n",
      "_________________________________________________________________\n",
      "Layer (type)                 Output Shape              Param #   \n",
      "=================================================================\n",
      "conv2d_8 (Conv2D)            (None, 26, 26, 32)        896       \n",
      "_________________________________________________________________\n",
      "max_pooling2d_8 (MaxPooling2 (None, 13, 13, 32)        0         \n",
      "_________________________________________________________________\n",
      "conv2d_9 (Conv2D)            (None, 11, 11, 64)        18496     \n",
      "_________________________________________________________________\n",
      "max_pooling2d_9 (MaxPooling2 (None, 5, 5, 64)          0         \n",
      "_________________________________________________________________\n",
      "flatten_4 (Flatten)          (None, 1600)              0         \n",
      "_________________________________________________________________\n",
      "dense_8 (Dense)              (None, 128)               204928    \n",
      "_________________________________________________________________\n",
      "dense_9 (Dense)              (None, 3)                 387       \n",
      "=================================================================\n",
      "Total params: 224,707\n",
      "Trainable params: 224,707\n",
      "Non-trainable params: 0\n",
      "_________________________________________________________________\n"
     ]
    }
   ],
   "source": [
    "import keras\n",
    "from keras.models import Sequential\n",
    "\n",
    "#바꿔 볼 수 있는 하이퍼파라미터들\n",
    "n_channel_1=32\n",
    "n_channel_2=64\n",
    "n_dense=128\n",
    "n_train_epoch=10\n",
    "\n",
    "model=Sequential()\n",
    "model.add(keras.layers.Conv2D(n_channel_1, (3,3), activation='relu', input_shape=(28,28,3)))\n",
    "model.add(keras.layers.MaxPool2D(2,2))\n",
    "model.add(keras.layers.Conv2D(n_channel_2, (3,3), activation='relu'))\n",
    "model.add(keras.layers.MaxPooling2D((2,2)))\n",
    "model.add(keras.layers.Flatten())\n",
    "model.add(keras.layers.Dense(n_dense, activation='relu'))\n",
    "model.add(keras.layers.Dense(3, activation='softmax'))\n",
    "\n",
    "\n",
    "model.summary()\n",
    "\n",
    "\n",
    "\n",
    "# 처음 체널값으로 32 부터 시작하면 더 좋은 점수를 낼 걸 알기 때문에 미리 올려두고 \n",
    "# (3, 3) 값은 strides 값인데 판별 값이 적어서 그렇게 늘려줄까 싶어서 가위바위보 3에 맞춰서 해줬다,\n",
    "# 그 다음 채널 값은 *2를 하여 더 늘려줬다\n",
    "# dense 값도 선행 채널값의 2배를 하여 더 늘려줬는데 \n",
    "# 딱 결과가 좋게 나와서 그만뒀다.\n",
    "# 처음에는 에폭 100을 줬었는데 아래 train loss, accuracy 가 10 안으로 해결이 되길래 10을 주는 것이 안정적이다 생각이 들었다"
   ]
  },
  {
   "cell_type": "code",
   "execution_count": 70,
   "id": "c18444c7",
   "metadata": {},
   "outputs": [
    {
     "name": "stdout",
     "output_type": "stream",
     "text": [
      "Epoch 1/100\n",
      "79/79 [==============================] - 0s 3ms/step - loss: 0.0060 - accuracy: 0.9976\n",
      "Epoch 2/100\n",
      "79/79 [==============================] - 0s 5ms/step - loss: 3.6376e-05 - accuracy: 1.0000\n",
      "Epoch 3/100\n",
      "79/79 [==============================] - 0s 5ms/step - loss: 1.7777e-05 - accuracy: 1.0000\n",
      "Epoch 4/100\n",
      "79/79 [==============================] - 0s 5ms/step - loss: 1.2521e-05 - accuracy: 1.0000\n",
      "Epoch 5/100\n",
      "79/79 [==============================] - 0s 5ms/step - loss: 9.6073e-06 - accuracy: 1.0000\n",
      "Epoch 6/100\n",
      "79/79 [==============================] - 0s 5ms/step - loss: 7.6810e-06 - accuracy: 1.0000\n",
      "Epoch 7/100\n",
      "79/79 [==============================] - 0s 5ms/step - loss: 6.2978e-06 - accuracy: 1.0000\n",
      "Epoch 8/100\n",
      "79/79 [==============================] - 0s 5ms/step - loss: 5.2439e-06 - accuracy: 1.0000\n",
      "Epoch 9/100\n",
      "79/79 [==============================] - 0s 5ms/step - loss: 4.5524e-06 - accuracy: 1.0000\n",
      "Epoch 10/100\n",
      "79/79 [==============================] - 0s 5ms/step - loss: 3.9791e-06 - accuracy: 1.0000\n",
      "Epoch 11/100\n",
      "79/79 [==============================] - 0s 5ms/step - loss: 3.5067e-06 - accuracy: 1.0000\n",
      "Epoch 12/100\n",
      "79/79 [==============================] - 0s 5ms/step - loss: 3.0878e-06 - accuracy: 1.0000\n",
      "Epoch 13/100\n",
      "79/79 [==============================] - 0s 5ms/step - loss: 2.7330e-06 - accuracy: 1.0000\n",
      "Epoch 14/100\n",
      "79/79 [==============================] - 0s 5ms/step - loss: 2.4509e-06 - accuracy: 1.0000\n",
      "Epoch 15/100\n",
      "79/79 [==============================] - 0s 5ms/step - loss: 2.1872e-06 - accuracy: 1.0000\n",
      "Epoch 16/100\n",
      "79/79 [==============================] - 0s 5ms/step - loss: 1.9486e-06 - accuracy: 1.0000\n",
      "Epoch 17/100\n",
      "79/79 [==============================] - 0s 5ms/step - loss: 1.7800e-06 - accuracy: 1.0000\n",
      "Epoch 18/100\n",
      "79/79 [==============================] - 0s 5ms/step - loss: 1.5991e-06 - accuracy: 1.0000\n",
      "Epoch 19/100\n",
      "79/79 [==============================] - 0s 5ms/step - loss: 1.4460e-06 - accuracy: 1.0000\n",
      "Epoch 20/100\n",
      "79/79 [==============================] - 0s 5ms/step - loss: 1.3376e-06 - accuracy: 1.0000\n",
      "Epoch 21/100\n",
      "79/79 [==============================] - 0s 5ms/step - loss: 1.2010e-06 - accuracy: 1.0000\n",
      "Epoch 22/100\n",
      "79/79 [==============================] - 0s 5ms/step - loss: 1.1097e-06 - accuracy: 1.0000\n",
      "Epoch 23/100\n",
      "79/79 [==============================] - 0s 5ms/step - loss: 1.0152e-06 - accuracy: 1.0000\n",
      "Epoch 24/100\n",
      "79/79 [==============================] - 0s 5ms/step - loss: 9.2499e-07 - accuracy: 1.0000\n",
      "Epoch 25/100\n",
      "79/79 [==============================] - 0s 5ms/step - loss: 8.5489e-07 - accuracy: 1.0000\n",
      "Epoch 26/100\n",
      "79/79 [==============================] - 0s 5ms/step - loss: 7.9050e-07 - accuracy: 1.0000\n",
      "Epoch 27/100\n",
      "79/79 [==============================] - 0s 5ms/step - loss: 7.2698e-07 - accuracy: 1.0000\n",
      "Epoch 28/100\n",
      "79/79 [==============================] - 0s 5ms/step - loss: 6.7532e-07 - accuracy: 1.0000\n",
      "Epoch 29/100\n",
      "79/79 [==============================] - 0s 5ms/step - loss: 6.1690e-07 - accuracy: 1.0000\n",
      "Epoch 30/100\n",
      "79/79 [==============================] - 0s 5ms/step - loss: 5.8842e-07 - accuracy: 1.0000\n",
      "Epoch 31/100\n",
      "79/79 [==============================] - 0s 4ms/step - loss: 5.3294e-07 - accuracy: 1.0000\n",
      "Epoch 32/100\n",
      "79/79 [==============================] - 0s 5ms/step - loss: 4.9547e-07 - accuracy: 1.0000\n",
      "Epoch 33/100\n",
      "79/79 [==============================] - 0s 5ms/step - loss: 4.6709e-07 - accuracy: 1.0000\n",
      "Epoch 34/100\n",
      "79/79 [==============================] - 0s 5ms/step - loss: 4.3047e-07 - accuracy: 1.0000\n",
      "Epoch 35/100\n",
      "79/79 [==============================] - 0s 5ms/step - loss: 4.0233e-07 - accuracy: 1.0000\n",
      "Epoch 36/100\n",
      "79/79 [==============================] - 0s 5ms/step - loss: 3.8080e-07 - accuracy: 1.0000\n",
      "Epoch 37/100\n",
      "79/79 [==============================] - 0s 5ms/step - loss: 3.5389e-07 - accuracy: 1.0000\n",
      "Epoch 38/100\n",
      "79/79 [==============================] - 0s 5ms/step - loss: 3.3284e-07 - accuracy: 1.0000\n",
      "Epoch 39/100\n",
      "79/79 [==============================] - 0s 5ms/step - loss: 3.1775e-07 - accuracy: 1.0000\n",
      "Epoch 40/100\n",
      "79/79 [==============================] - 0s 5ms/step - loss: 2.9173e-07 - accuracy: 1.0000\n",
      "Epoch 41/100\n",
      "79/79 [==============================] - 0s 5ms/step - loss: 2.7683e-07 - accuracy: 1.0000\n",
      "Epoch 42/100\n",
      "79/79 [==============================] - 0s 5ms/step - loss: 2.5999e-07 - accuracy: 1.0000\n",
      "Epoch 43/100\n",
      "79/79 [==============================] - 0s 5ms/step - loss: 2.4580e-07 - accuracy: 1.0000\n",
      "Epoch 44/100\n",
      "79/79 [==============================] - 0s 5ms/step - loss: 2.3113e-07 - accuracy: 1.0000\n",
      "Epoch 45/100\n",
      "79/79 [==============================] - 0s 5ms/step - loss: 2.1793e-07 - accuracy: 1.0000\n",
      "Epoch 46/100\n",
      "79/79 [==============================] - 0s 5ms/step - loss: 2.0668e-07 - accuracy: 1.0000\n",
      "Epoch 47/100\n",
      "79/79 [==============================] - 0s 5ms/step - loss: 1.9570e-07 - accuracy: 1.0000\n",
      "Epoch 48/100\n",
      "79/79 [==============================] - 0s 5ms/step - loss: 1.8435e-07 - accuracy: 1.0000\n",
      "Epoch 49/100\n",
      "79/79 [==============================] - 0s 5ms/step - loss: 1.7441e-07 - accuracy: 1.0000\n",
      "Epoch 50/100\n",
      "79/79 [==============================] - 0s 5ms/step - loss: 1.6571e-07 - accuracy: 1.0000\n",
      "Epoch 51/100\n",
      "79/79 [==============================] - 0s 5ms/step - loss: 1.5710e-07 - accuracy: 1.0000\n",
      "Epoch 52/100\n",
      "79/79 [==============================] - 0s 5ms/step - loss: 1.4821e-07 - accuracy: 1.0000\n",
      "Epoch 53/100\n",
      "79/79 [==============================] - 0s 5ms/step - loss: 1.4258e-07 - accuracy: 1.0000\n",
      "Epoch 54/100\n",
      "79/79 [==============================] - 0s 5ms/step - loss: 1.3316e-07 - accuracy: 1.0000\n",
      "Epoch 55/100\n",
      "79/79 [==============================] - 0s 5ms/step - loss: 1.2687e-07 - accuracy: 1.0000\n",
      "Epoch 56/100\n",
      "79/79 [==============================] - 0s 5ms/step - loss: 1.2025e-07 - accuracy: 1.0000\n",
      "Epoch 57/100\n",
      "79/79 [==============================] - 0s 5ms/step - loss: 1.1415e-07 - accuracy: 1.0000\n",
      "Epoch 58/100\n",
      "79/79 [==============================] - 0s 5ms/step - loss: 1.0814e-07 - accuracy: 1.0000\n",
      "Epoch 59/100\n",
      "79/79 [==============================] - 0s 5ms/step - loss: 1.0317e-07 - accuracy: 1.0000\n",
      "Epoch 60/100\n",
      "79/79 [==============================] - 0s 5ms/step - loss: 9.8868e-08 - accuracy: 1.0000\n",
      "Epoch 61/100\n",
      "79/79 [==============================] - 0s 5ms/step - loss: 9.3759e-08 - accuracy: 1.0000\n",
      "Epoch 62/100\n",
      "79/79 [==============================] - 0s 5ms/step - loss: 8.8555e-08 - accuracy: 1.0000\n",
      "Epoch 63/100\n",
      "79/79 [==============================] - 0s 5ms/step - loss: 8.5197e-08 - accuracy: 1.0000\n",
      "Epoch 64/100\n",
      "79/79 [==============================] - 0s 5ms/step - loss: 8.1270e-08 - accuracy: 1.0000\n",
      "Epoch 65/100\n",
      "79/79 [==============================] - 0s 5ms/step - loss: 7.7486e-08 - accuracy: 1.0000\n",
      "Epoch 66/100\n",
      "79/79 [==============================] - 0s 5ms/step - loss: 7.3607e-08 - accuracy: 1.0000\n",
      "Epoch 67/100\n",
      "79/79 [==============================] - 0s 5ms/step - loss: 7.0012e-08 - accuracy: 1.0000\n",
      "Epoch 68/100\n",
      "79/79 [==============================] - 0s 5ms/step - loss: 6.7032e-08 - accuracy: 1.0000\n",
      "Epoch 69/100\n",
      "79/79 [==============================] - 0s 5ms/step - loss: 6.4572e-08 - accuracy: 1.0000\n",
      "Epoch 70/100\n",
      "79/79 [==============================] - 0s 5ms/step - loss: 6.1781e-08 - accuracy: 1.0000\n",
      "Epoch 71/100\n",
      "79/79 [==============================] - 0s 5ms/step - loss: 5.9368e-08 - accuracy: 1.0000\n",
      "Epoch 72/100\n",
      "79/79 [==============================] - 0s 5ms/step - loss: 5.6341e-08 - accuracy: 1.0000\n",
      "Epoch 73/100\n",
      "79/79 [==============================] - 0s 5ms/step - loss: 5.3928e-08 - accuracy: 1.0000\n",
      "Epoch 74/100\n",
      "79/79 [==============================] - 0s 5ms/step - loss: 5.1610e-08 - accuracy: 1.0000\n",
      "Epoch 75/100\n",
      "79/79 [==============================] - 0s 5ms/step - loss: 4.9008e-08 - accuracy: 1.0000\n",
      "Epoch 76/100\n",
      "79/79 [==============================] - 0s 5ms/step - loss: 4.7258e-08 - accuracy: 1.0000\n",
      "Epoch 77/100\n",
      "79/79 [==============================] - 0s 5ms/step - loss: 4.5555e-08 - accuracy: 1.0000\n",
      "Epoch 78/100\n",
      "79/79 [==============================] - 0s 5ms/step - loss: 4.3615e-08 - accuracy: 1.0000\n",
      "Epoch 79/100\n"
     ]
    },
    {
     "name": "stdout",
     "output_type": "stream",
     "text": [
      "79/79 [==============================] - 0s 5ms/step - loss: 4.0824e-08 - accuracy: 1.0000\n",
      "Epoch 80/100\n",
      "79/79 [==============================] - 0s 5ms/step - loss: 3.9547e-08 - accuracy: 1.0000\n",
      "Epoch 81/100\n",
      "79/79 [==============================] - 0s 5ms/step - loss: 3.7608e-08 - accuracy: 1.0000\n",
      "Epoch 82/100\n",
      "79/79 [==============================] - 0s 5ms/step - loss: 3.5715e-08 - accuracy: 1.0000\n",
      "Epoch 83/100\n",
      "79/79 [==============================] - 0s 5ms/step - loss: 3.4202e-08 - accuracy: 1.0000\n",
      "Epoch 84/100\n",
      "79/79 [==============================] - 0s 5ms/step - loss: 3.2972e-08 - accuracy: 1.0000\n",
      "Epoch 85/100\n",
      "79/79 [==============================] - 0s 5ms/step - loss: 3.1458e-08 - accuracy: 1.0000\n",
      "Epoch 86/100\n",
      "79/79 [==============================] - 0s 5ms/step - loss: 3.0228e-08 - accuracy: 1.0000\n",
      "Epoch 87/100\n",
      "79/79 [==============================] - 0s 5ms/step - loss: 2.8951e-08 - accuracy: 1.0000\n",
      "Epoch 88/100\n",
      "79/79 [==============================] - 0s 5ms/step - loss: 2.7815e-08 - accuracy: 1.0000\n",
      "Epoch 89/100\n",
      "79/79 [==============================] - 0s 4ms/step - loss: 2.6869e-08 - accuracy: 1.0000\n",
      "Epoch 90/100\n",
      "79/79 [==============================] - 0s 5ms/step - loss: 2.5639e-08 - accuracy: 1.0000\n",
      "Epoch 91/100\n",
      "79/79 [==============================] - 0s 5ms/step - loss: 2.4504e-08 - accuracy: 1.0000\n",
      "Epoch 92/100\n",
      "79/79 [==============================] - 0s 6ms/step - loss: 2.3274e-08 - accuracy: 1.0000\n",
      "Epoch 93/100\n",
      "79/79 [==============================] - 0s 5ms/step - loss: 2.2470e-08 - accuracy: 1.0000\n",
      "Epoch 94/100\n",
      "79/79 [==============================] - 0s 5ms/step - loss: 2.1619e-08 - accuracy: 1.0000\n",
      "Epoch 95/100\n",
      "79/79 [==============================] - 0s 5ms/step - loss: 2.0956e-08 - accuracy: 1.0000\n",
      "Epoch 96/100\n",
      "79/79 [==============================] - 0s 5ms/step - loss: 2.0578e-08 - accuracy: 1.0000\n",
      "Epoch 97/100\n",
      "79/79 [==============================] - 0s 5ms/step - loss: 1.9301e-08 - accuracy: 1.0000\n",
      "Epoch 98/100\n",
      "79/79 [==============================] - 0s 5ms/step - loss: 1.8260e-08 - accuracy: 1.0000\n",
      "Epoch 99/100\n",
      "79/79 [==============================] - 0s 5ms/step - loss: 1.7456e-08 - accuracy: 1.0000\n",
      "Epoch 100/100\n",
      "79/79 [==============================] - 0s 5ms/step - loss: 1.6793e-08 - accuracy: 1.0000\n"
     ]
    }
   ],
   "source": [
    "# 아담은 최적화에서 다른 모델과는 다르게 월등함\n",
    "model.compile(optimizer='adam',\n",
    "             loss='sparse_categorical_crossentropy',\n",
    "             metrics=['accuracy'])\n",
    "\n",
    "hist = model.fit(x_train_norm, y_train, epochs=n_train_epoch)"
   ]
  },
  {
   "cell_type": "markdown",
   "id": "4d90caf3",
   "metadata": {},
   "source": [
    "# train loss, accuracy 그래프 "
   ]
  },
  {
   "cell_type": "code",
   "execution_count": 67,
   "id": "7a4a3312",
   "metadata": {},
   "outputs": [
    {
     "data": {
      "text/plain": [
       "<matplotlib.legend.Legend at 0x7f5b64399f40>"
      ]
     },
     "execution_count": 67,
     "metadata": {},
     "output_type": "execute_result"
    },
    {
     "data": {
      "image/png": "[encoded data removed]",
      "text/plain": [
       "<Figure size 640x480 with 1 Axes>"
      ]
     },
     "metadata": {},
     "output_type": "display_data"
    }
   ],
   "source": [
    "plt.subplot(211)\n",
    "plt.plot(hist.history['accuracy'])\n",
    "plt.plot(hist.history['loss'])\n",
    "plt.title('Model Accuracy')\n",
    "plt.ylabel('Accuracy')\n",
    "plt.xlabel('Epoch')\n",
    "plt.legend(['Training_accuracy', 'Training_loss'], loc='lower right')"
   ]
  },
  {
   "cell_type": "markdown",
   "id": "546ca60b",
   "metadata": {},
   "source": [
    "# test 이미지 load"
   ]
  },
  {
   "cell_type": "code",
   "execution_count": 54,
   "id": "7764a560",
   "metadata": {},
   "outputs": [
    {
     "name": "stdout",
     "output_type": "stream",
     "text": [
      "학습데이터(x_test)의 이미지 개수는 33 입니다.\n",
      "x_test shape: (33, 28, 28, 3)\n",
      "y_test shape: (33,)\n"
     ]
    }
   ],
   "source": [
    "\n",
    "def load_data2(img_path):\n",
    "    # 가위 : 0, 바위 : 1, 보 : 2\n",
    "    number_of_data=33   # 가위바위보 이미지 개수 총합에 주의하세요.\n",
    "    img_size=28\n",
    "    color=3\n",
    "    #이미지 데이터와 라벨(가위 : 0, 바위 : 1, 보 : 2) 데이터를 담을 행렬(matrix) 영역을 생성합니다.\n",
    "    imgs=np.zeros(number_of_data*img_size*img_size*color,dtype=np.int32).reshape(number_of_data,img_size,img_size,color)\n",
    "    labels=np.zeros(number_of_data,dtype=np.int32)\n",
    "\n",
    "    idx=0\n",
    "    for file in glob.iglob(img_path+'/scissors/*.jpg'):\n",
    "        img = np.array(Image.open(file),dtype=np.int32)\n",
    "        imgs[idx,:,:,:]=img    # 데이터 영역에 이미지 행렬을 복사\n",
    "        labels[idx]=0   # 가위 : 0\n",
    "        idx=idx+1\n",
    "\n",
    "    for file in glob.iglob(img_path+'/rock/*.jpg'):\n",
    "        img = np.array(Image.open(file),dtype=np.int32)\n",
    "        imgs[idx,:,:,:]=img    # 데이터 영역에 이미지 행렬을 복사\n",
    "        labels[idx]=1   # 바위 : 1\n",
    "        idx=idx+1       \n",
    "    \n",
    "    for file in glob.iglob(img_path+'/paper/*.jpg'):\n",
    "        img = np.array(Image.open(file),dtype=np.int32)\n",
    "        imgs[idx,:,:,:]=img    # 데이터 영역에 이미지 행렬을 복사\n",
    "        labels[idx]=2   # 보 : 2\n",
    "        idx=idx+1\n",
    "        \n",
    "    print(\"학습데이터(x_test)의 이미지 개수는\",idx,\"입니다.\")\n",
    "    return imgs, labels\n",
    "\n",
    "image_dir_path = os.getenv(\"HOME\") + \"/Documents/aiffel/rock_scissor_paper_data/test/\"\n",
    "(x_test, y_test)=load_data2(image_dir_path)\n",
    "x_test_norm = x_test/255.0   # 입력은 0~1 사이의 값으로 정규화\n",
    "\n",
    "print(\"x_test shape: {}\".format(x_test.shape))\n",
    "print(\"y_test shape: {}\".format(y_test.shape))"
   ]
  },
  {
   "cell_type": "markdown",
   "id": "142d3810",
   "metadata": {},
   "source": [
    "# test 데이터 평가"
   ]
  },
  {
   "cell_type": "code",
   "execution_count": 55,
   "id": "4cf13bb2",
   "metadata": {},
   "outputs": [
    {
     "name": "stdout",
     "output_type": "stream",
     "text": [
      "2/2 - 0s - loss: 0.2443 - accuracy: 0.9394\n",
      "test_loss: 0.2443373203277588 \n",
      "test_accuracy: 0.939393937587738\n"
     ]
    }
   ],
   "source": [
    "test_loss, test_accuracy = model.evaluate(x_test_norm, y_test, verbose=2)\n",
    "print(\"test_loss: {} \".format(test_loss))\n",
    "print(\"test_accuracy: {}\".format(test_accuracy))"
   ]
  }
 ],
 "metadata": {
  "kernelspec": {
   "display_name": "tf2_mask_rcnn",
   "language": "python",
   "name": "tf2_mask_rcnn"
  },
  "language_info": {
   "codemirror_mode": {
    "name": "ipython",
    "version": 3
   },
   "file_extension": ".py",
   "mimetype": "text/x-python",
   "name": "python",
   "nbconvert_exporter": "python",
   "pygments_lexer": "ipython3",
   "version": "3.8.16"
  }
 },
 "nbformat": 4,
 "nbformat_minor": 5
}
